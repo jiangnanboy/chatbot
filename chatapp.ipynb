{
 "cells": [
  {
   "cell_type": "code",
   "execution_count": 2,
   "metadata": {},
   "outputs": [
    {
     "name": "stdout",
     "output_type": "stream",
     "text": [
      "index_classes:{0: 'greeting', 1: 'goodbye', 2: 'thanks', 3: 'options', 4: 'adverse_drug', 5: 'blood_pressure', 6: 'blood_pressure_search', 7: 'pharmacy_search', 8: 'hospital_search'}\n"
     ]
    },
    {
     "data": {
      "text/plain": [
       "<All keys matched successfully>"
      ]
     },
     "execution_count": 2,
     "metadata": {},
     "output_type": "execute_result"
    }
   ],
   "source": [
    "import torch\n",
    "import torch.nn as nn\n",
    "import torch.nn.functional as F\n",
    "import pickle\n",
    "import numpy as np\n",
    "import os\n",
    "import json\n",
    "import random\n",
    "\n",
    "intent_json_path = os.path.join(os.getcwd(), \"intents.json\")\n",
    "with open(intent_json_path, 'r', encoding='utf-8') as f:\n",
    "    intents = json.load(f)\n",
    "    \n",
    "words_path = os.path.join(os.getcwd(), \"words.pkl\")\n",
    "with open(words_path, 'rb') as f_words:\n",
    "    words = pickle.load(f_words)\n",
    "    \n",
    "classes_path = os.path.join(os.getcwd(), \"classes.pkl\")\n",
    "with open(classes_path, 'rb') as f_classes:\n",
    "    classes = pickle.load(f_classes)\n",
    "    \n",
    "classes_index_path = os.path.join(os.getcwd(), \"classes_index.pkl\")\n",
    "with open(classes_index_path, 'rb') as f_classes_index:\n",
    "    classes_index = pickle.load(f_classes_index)\n",
    "index_classes = dict(zip(classes_index.values(), classes_index.keys()))\n",
    "print('index_classes:{}'.format(index_classes))\n",
    "class classifyModel(nn.Module):\n",
    "    \n",
    "    def __init__(self):\n",
    "        super(classifyModel, self).__init__()\n",
    "        self.model = nn.Sequential(\n",
    "                nn.Linear(len(words), 128),\n",
    "                nn.ReLU(),\n",
    "                nn.Dropout(0.5),\n",
    "                nn.Linear(128, 64),\n",
    "                nn.ReLU(),\n",
    "                nn.Dropout(0.5),\n",
    "                nn.Linear(64, len(classes)))\n",
    "    def forward(self, x):\n",
    "            out = self.model(x)\n",
    "            return out\n",
    "        \n",
    "model = classifyModel()\n",
    "model_path = os.path.join(os.getcwd(), \"chatbot_model.h5\")\n",
    "model.load_state_dict(torch.load(model_path))\n"
   ]
  },
  {
   "cell_type": "code",
   "execution_count": 3,
   "metadata": {},
   "outputs": [
    {
     "name": "stdout",
     "output_type": "stream",
     "text": [
      "outputs:tensor([[  1.1156, -11.2461,  -4.3720,  -2.1028,  -1.2361,  -7.8320,   3.9405,\n",
      "           1.6587,  20.5413]], grad_fn=<AddmmBackward>)\n",
      "softmax_prob:tensor([1.0000], grad_fn=<MaxBackward0>)\n",
      "softmax_index:tensor([8])\n",
      "result:[{'intent': 'hospital_search', 'prob': '0.9999999'}]\n",
      "Please provide hospital name or location\n"
     ]
    }
   ],
   "source": [
    "import nltk\n",
    "from nltk.stem import WordNetLemmatizer\n",
    "\n",
    "lemmatizer = WordNetLemmatizer()\n",
    "\n",
    "def clean_up_sentence(sentence):\n",
    "    sentence_words = nltk.word_tokenize(sentence) #分词\n",
    "    sentence_words = [lemmatizer.lemmatize(word.lower()) for word in sentence_words] #词干\n",
    "    return sentence_words\n",
    "\n",
    "def bow(sentence, words, show_detail = True):\n",
    "    sentence_words = clean_up_sentence(sentence)\n",
    "    #词袋\n",
    "    bag = [0] * len(words)\n",
    "    for s in sentence_words:\n",
    "        for i,w in enumerate(words):\n",
    "            if w == s:\n",
    "                bag[i] = 1 #词在词典中\n",
    "            if show_detail:\n",
    "                print(\"found in bag:{}\".format(w))\n",
    "    return [bag]\n",
    "\n",
    "def predict_class(sentence, model):\n",
    "    sentence_bag = bow(sentence, words, False)\n",
    "    model.eval()\n",
    "    outputs = model(torch.FloatTensor(sentence_bag))\n",
    "    print('outputs:{}'.format(outputs))\n",
    "    predicted_prob,predicted_index = torch.max(F.softmax(outputs, 1), 1)#预测最大类别的概率与索引\n",
    "    print('softmax_prob:{}'.format(predicted_prob))\n",
    "    print('softmax_index:{}'.format(predicted_index))\n",
    "    results = []\n",
    "    results.append({'intent':index_classes[predicted_index.detach().numpy()[0]], 'prob':str(predicted_prob.detach().numpy()[0])})\n",
    "    print('result:{}'.format(results))\n",
    "    return results\n",
    " \n",
    "def get_response(predict_result, intents_json):\n",
    "    tag = predict_result[0]['intent']\n",
    "    list_of_intents = intents_json['intents']\n",
    "    for i in list_of_intents:\n",
    "        if(i['tag'] == tag):\n",
    "            result = random.choice(i['responses'])\n",
    "            break\n",
    "    return result\n",
    "\n",
    "def chatbot_response(text):\n",
    "    predict_result = predict_class(text, model)\n",
    "    res = get_response(predict_result, intents)\n",
    "    return res\n",
    "print(chatbot_response(\"Lookup for hospital\"))"
   ]
  },
  {
   "cell_type": "code",
   "execution_count": 5,
   "metadata": {},
   "outputs": [
    {
     "name": "stdout",
     "output_type": "stream",
     "text": [
      "outputs:tensor([[10.3189, -1.0525, -1.0234, -0.3509, -1.0550, -2.3075, -3.8324, -2.9424,\n",
      "          1.6652]], grad_fn=<AddmmBackward>)\n",
      "softmax_prob:tensor([0.9998], grad_fn=<MaxBackward0>)\n",
      "softmax_index:tensor([0])\n",
      "result:[{'intent': 'greeting', 'prob': '0.99976164'}]\n"
     ]
    }
   ],
   "source": [
    "import tkinter\n",
    "from tkinter import *\n",
    "\n",
    "def send():\n",
    "    msg = EntryBox.get(\"1.0\",'end-1c').strip()\n",
    "    EntryBox.delete(\"0.0\",END)\n",
    "    if msg != '':\n",
    "            ChatLog.config(state=NORMAL)\n",
    "            ChatLog.insert(END, \"你: \" + msg + '\\n\\n')\n",
    "            ChatLog.config(foreground=\"#442265\", font=(\"Verdana\", 12 ))\n",
    "            res = chatbot_response(msg)\n",
    "            ChatLog.insert(END, \"机器人: \" + res + '\\n\\n')\n",
    "            ChatLog.config(state=DISABLED)\n",
    "            ChatLog.yview(END)\n",
    "base = Tk()\n",
    "base.title(\"Hello\")\n",
    "base.geometry(\"400x500\")\n",
    "base.resizable(width=FALSE, height=FALSE)\n",
    "#Create Chat window\n",
    "ChatLog = Text(base, bd=0, bg=\"white\", height=\"8\", width=\"50\", font=\"Arial\",)\n",
    "ChatLog.config(state=DISABLED)\n",
    "#Bind scrollbar to Chat window\n",
    "scrollbar = Scrollbar(base, command=ChatLog.yview, cursor=\"heart\")\n",
    "ChatLog['yscrollcommand'] = scrollbar.set\n",
    "#Create Button to send message\n",
    "SendButton = Button(base, font=(\"Verdana\",12,'bold'), text=\"发送\", width=\"12\", height=5,\n",
    "                    bd=0, bg=\"#32de97\", activebackground=\"#3c9d9b\",fg='#ffffff',\n",
    "                    command= send )\n",
    "#Create the box to enter message\n",
    "EntryBox = Text(base, bd=0, bg=\"white\",width=\"29\", height=\"5\", font=\"Arial\")\n",
    "#EntryBox.bind(\"<Return>\", send)\n",
    "#Place all components on the screen\n",
    "scrollbar.place(x=376,y=6, height=386)\n",
    "ChatLog.place(x=6,y=6, height=386, width=370)\n",
    "EntryBox.place(x=128, y=401, height=90, width=265)\n",
    "SendButton.place(x=6, y=401, height=90)\n",
    "base.mainloop()\n"
   ]
  },
  {
   "cell_type": "code",
   "execution_count": null,
   "metadata": {},
   "outputs": [],
   "source": []
  }
 ],
 "metadata": {
  "kernelspec": {
   "display_name": "Python 3",
   "language": "python",
   "name": "python3"
  },
  "language_info": {
   "codemirror_mode": {
    "name": "ipython",
    "version": 3
   },
   "file_extension": ".py",
   "mimetype": "text/x-python",
   "name": "python",
   "nbconvert_exporter": "python",
   "pygments_lexer": "ipython3",
   "version": "3.6.5"
  }
 },
 "nbformat": 4,
 "nbformat_minor": 2
}